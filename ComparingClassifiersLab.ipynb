{
 "cells": [
  {
   "cell_type": "markdown",
   "metadata": {},
   "source": [
    "# Skill lab: Comparing classifiers\n"
   ]
  },
  {
   "cell_type": "markdown",
   "metadata": {},
   "source": [
    "In this assignment you will apply the statistical tools we learned to a machine learning task of comparing performance of two classifiers.\n",
    "\n",
    "By the end of this lab you will know\n",
    "- How to implement a k-nearest neighbor classifier.\n",
    "- How to perform a k-fold cross validation.\n",
    "- How to find confidence intervals for a classiifer performance based on a sample.\n",
    "- How to statistically compare performance of two classsifiers.\n",
    "\n"
   ]
  },
  {
   "cell_type": "markdown",
   "metadata": {},
   "source": [
    "You need to perform the following seven tasks:\n",
    "1. Compute the accuracy of the Naive Bayes classifier based on the holdout estimation. Next, compute the confidence interval for accuracy at the confidence level 0.90.\n",
    "2. Break the original dataset into 10 folds for cross-validation of Naive Bayes classifier. Obtain classification results from 10 cross-validation experiments.\n",
    "3. Implement the Nearest Neighbors classifier. \n",
    "4. Use it to find the accuracy based on the holdout estimation. Compute the confidence interval at the confidence level 0.90. \n",
    "5. Generate the same 10-folds from a dataset with all numeric attributes and obtain classification results using the k-NN classifer. \n",
    "6. Test the hypothesis that two classifers have a diferent performance at significance level 0.05.\n",
    "7. Use the best classifier to predict the evaluation score of several instructors that you know."
   ]
  },
  {
   "cell_type": "markdown",
   "metadata": {},
   "source": [
    "Feel free to use any programming tools available: pandas, plain python, numpy or anything else. \n",
    "\n",
    "**You are not allowed to use sklearn or any other python library that already includes the implementation of all these tasks**.\n"
   ]
  },
  {
   "cell_type": "markdown",
   "metadata": {},
   "source": [
    "## Dataset"
   ]
  },
  {
   "cell_type": "markdown",
   "metadata": {},
   "source": [
    "The dataset for this lab contains about 460 anonymized student evaluations collected at the University of Texas at Austin, and used in the following publication: \"Beauty in the Classroom: Instructors' Pulchritude and Putative Pedagogical Productivity\". You can learn how the data was collected and the meaning of various data attributes following [THIS LINK](https://chance.amstat.org/2013/04/looking-good/).\n",
    "\n",
    "We use a subset of attributes. This smaller subset of the original data is included in the repository. We want to build a classifier that &mdash; based on these attributes &mdash; will predict the evaluation result for each instructor: good (&ge; 4) or bad (<4). "
   ]
  },
  {
   "cell_type": "code",
   "execution_count": 14,
   "metadata": {},
   "outputs": [],
   "source": [
    "data_file = \"SStudentEvaluations.csv\""
   ]
  },
  {
   "cell_type": "code",
   "execution_count": 15,
   "metadata": {},
   "outputs": [
    {
     "name": "stdout",
     "output_type": "stream",
     "text": [
      "Index(['rank', 'ethnicity', 'gender', 'language', 'age', 'bty_avg',\n",
      "       'eval_categorical'],\n",
      "      dtype='object')\n",
      "rank                 object\n",
      "ethnicity            object\n",
      "gender               object\n",
      "language             object\n",
      "age                   int64\n",
      "bty_avg             float64\n",
      "eval_categorical     object\n",
      "dtype: object\n"
     ]
    }
   ],
   "source": [
    "import pandas as pd\n",
    "\n",
    "data = pd.read_csv(data_file)\n",
    "print(data.columns)\n",
    "print(data.dtypes)"
   ]
  },
  {
   "cell_type": "code",
   "execution_count": 16,
   "metadata": {},
   "outputs": [
    {
     "data": {
      "text/html": [
       "<div>\n",
       "<style scoped>\n",
       "    .dataframe tbody tr th:only-of-type {\n",
       "        vertical-align: middle;\n",
       "    }\n",
       "\n",
       "    .dataframe tbody tr th {\n",
       "        vertical-align: top;\n",
       "    }\n",
       "\n",
       "    .dataframe thead th {\n",
       "        text-align: right;\n",
       "    }\n",
       "</style>\n",
       "<table border=\"1\" class=\"dataframe\">\n",
       "  <thead>\n",
       "    <tr style=\"text-align: right;\">\n",
       "      <th></th>\n",
       "      <th>rank</th>\n",
       "      <th>ethnicity</th>\n",
       "      <th>gender</th>\n",
       "      <th>language</th>\n",
       "      <th>age</th>\n",
       "      <th>bty_avg</th>\n",
       "      <th>eval_categorical</th>\n",
       "    </tr>\n",
       "  </thead>\n",
       "  <tbody>\n",
       "    <tr>\n",
       "      <th>0</th>\n",
       "      <td>tenure track</td>\n",
       "      <td>minority</td>\n",
       "      <td>female</td>\n",
       "      <td>english</td>\n",
       "      <td>36</td>\n",
       "      <td>5.000</td>\n",
       "      <td>good</td>\n",
       "    </tr>\n",
       "    <tr>\n",
       "      <th>1</th>\n",
       "      <td>tenure track</td>\n",
       "      <td>minority</td>\n",
       "      <td>female</td>\n",
       "      <td>english</td>\n",
       "      <td>36</td>\n",
       "      <td>5.000</td>\n",
       "      <td>bad</td>\n",
       "    </tr>\n",
       "    <tr>\n",
       "      <th>2</th>\n",
       "      <td>tenure track</td>\n",
       "      <td>minority</td>\n",
       "      <td>female</td>\n",
       "      <td>english</td>\n",
       "      <td>36</td>\n",
       "      <td>5.000</td>\n",
       "      <td>bad</td>\n",
       "    </tr>\n",
       "    <tr>\n",
       "      <th>3</th>\n",
       "      <td>tenure track</td>\n",
       "      <td>minority</td>\n",
       "      <td>female</td>\n",
       "      <td>english</td>\n",
       "      <td>36</td>\n",
       "      <td>5.000</td>\n",
       "      <td>good</td>\n",
       "    </tr>\n",
       "    <tr>\n",
       "      <th>4</th>\n",
       "      <td>tenured</td>\n",
       "      <td>not minority</td>\n",
       "      <td>male</td>\n",
       "      <td>english</td>\n",
       "      <td>59</td>\n",
       "      <td>3.000</td>\n",
       "      <td>good</td>\n",
       "    </tr>\n",
       "    <tr>\n",
       "      <th>...</th>\n",
       "      <td>...</td>\n",
       "      <td>...</td>\n",
       "      <td>...</td>\n",
       "      <td>...</td>\n",
       "      <td>...</td>\n",
       "      <td>...</td>\n",
       "      <td>...</td>\n",
       "    </tr>\n",
       "    <tr>\n",
       "      <th>458</th>\n",
       "      <td>tenure track</td>\n",
       "      <td>not minority</td>\n",
       "      <td>male</td>\n",
       "      <td>english</td>\n",
       "      <td>32</td>\n",
       "      <td>6.833</td>\n",
       "      <td>good</td>\n",
       "    </tr>\n",
       "    <tr>\n",
       "      <th>459</th>\n",
       "      <td>tenure track</td>\n",
       "      <td>minority</td>\n",
       "      <td>female</td>\n",
       "      <td>non-english</td>\n",
       "      <td>42</td>\n",
       "      <td>5.333</td>\n",
       "      <td>bad</td>\n",
       "    </tr>\n",
       "    <tr>\n",
       "      <th>460</th>\n",
       "      <td>tenure track</td>\n",
       "      <td>minority</td>\n",
       "      <td>female</td>\n",
       "      <td>non-english</td>\n",
       "      <td>42</td>\n",
       "      <td>5.333</td>\n",
       "      <td>bad</td>\n",
       "    </tr>\n",
       "    <tr>\n",
       "      <th>461</th>\n",
       "      <td>tenure track</td>\n",
       "      <td>minority</td>\n",
       "      <td>female</td>\n",
       "      <td>non-english</td>\n",
       "      <td>42</td>\n",
       "      <td>5.333</td>\n",
       "      <td>bad</td>\n",
       "    </tr>\n",
       "    <tr>\n",
       "      <th>462</th>\n",
       "      <td>tenure track</td>\n",
       "      <td>minority</td>\n",
       "      <td>female</td>\n",
       "      <td>non-english</td>\n",
       "      <td>42</td>\n",
       "      <td>5.333</td>\n",
       "      <td>good</td>\n",
       "    </tr>\n",
       "  </tbody>\n",
       "</table>\n",
       "<p>463 rows × 7 columns</p>\n",
       "</div>"
      ],
      "text/plain": [
       "             rank     ethnicity  gender     language  age  bty_avg  \\\n",
       "0    tenure track      minority  female      english   36    5.000   \n",
       "1    tenure track      minority  female      english   36    5.000   \n",
       "2    tenure track      minority  female      english   36    5.000   \n",
       "3    tenure track      minority  female      english   36    5.000   \n",
       "4         tenured  not minority    male      english   59    3.000   \n",
       "..            ...           ...     ...          ...  ...      ...   \n",
       "458  tenure track  not minority    male      english   32    6.833   \n",
       "459  tenure track      minority  female  non-english   42    5.333   \n",
       "460  tenure track      minority  female  non-english   42    5.333   \n",
       "461  tenure track      minority  female  non-english   42    5.333   \n",
       "462  tenure track      minority  female  non-english   42    5.333   \n",
       "\n",
       "    eval_categorical  \n",
       "0               good  \n",
       "1                bad  \n",
       "2                bad  \n",
       "3               good  \n",
       "4               good  \n",
       "..               ...  \n",
       "458             good  \n",
       "459              bad  \n",
       "460              bad  \n",
       "461              bad  \n",
       "462             good  \n",
       "\n",
       "[463 rows x 7 columns]"
      ]
     },
     "metadata": {},
     "output_type": "display_data"
    }
   ],
   "source": [
    "display(data)"
   ]
  },
  {
   "cell_type": "markdown",
   "metadata": {},
   "source": [
    "First of all, we will shuffle the data. We use a seeded randomization &mdash; so we can obtain reproducible results (needed for testing of your work)."
   ]
  },
  {
   "cell_type": "code",
   "execution_count": 17,
   "metadata": {},
   "outputs": [
    {
     "data": {
      "text/html": [
       "<div>\n",
       "<style scoped>\n",
       "    .dataframe tbody tr th:only-of-type {\n",
       "        vertical-align: middle;\n",
       "    }\n",
       "\n",
       "    .dataframe tbody tr th {\n",
       "        vertical-align: top;\n",
       "    }\n",
       "\n",
       "    .dataframe thead th {\n",
       "        text-align: right;\n",
       "    }\n",
       "</style>\n",
       "<table border=\"1\" class=\"dataframe\">\n",
       "  <thead>\n",
       "    <tr style=\"text-align: right;\">\n",
       "      <th></th>\n",
       "      <th>rank</th>\n",
       "      <th>ethnicity</th>\n",
       "      <th>gender</th>\n",
       "      <th>language</th>\n",
       "      <th>age</th>\n",
       "      <th>bty_avg</th>\n",
       "      <th>eval_categorical</th>\n",
       "    </tr>\n",
       "  </thead>\n",
       "  <tbody>\n",
       "    <tr>\n",
       "      <th>331</th>\n",
       "      <td>tenured</td>\n",
       "      <td>not minority</td>\n",
       "      <td>male</td>\n",
       "      <td>english</td>\n",
       "      <td>64</td>\n",
       "      <td>2.333</td>\n",
       "      <td>bad</td>\n",
       "    </tr>\n",
       "    <tr>\n",
       "      <th>101</th>\n",
       "      <td>tenured</td>\n",
       "      <td>not minority</td>\n",
       "      <td>female</td>\n",
       "      <td>english</td>\n",
       "      <td>46</td>\n",
       "      <td>4.333</td>\n",
       "      <td>good</td>\n",
       "    </tr>\n",
       "    <tr>\n",
       "      <th>192</th>\n",
       "      <td>tenured</td>\n",
       "      <td>not minority</td>\n",
       "      <td>male</td>\n",
       "      <td>english</td>\n",
       "      <td>54</td>\n",
       "      <td>2.333</td>\n",
       "      <td>good</td>\n",
       "    </tr>\n",
       "    <tr>\n",
       "      <th>66</th>\n",
       "      <td>teaching</td>\n",
       "      <td>not minority</td>\n",
       "      <td>male</td>\n",
       "      <td>english</td>\n",
       "      <td>37</td>\n",
       "      <td>4.333</td>\n",
       "      <td>bad</td>\n",
       "    </tr>\n",
       "    <tr>\n",
       "      <th>327</th>\n",
       "      <td>tenured</td>\n",
       "      <td>not minority</td>\n",
       "      <td>male</td>\n",
       "      <td>english</td>\n",
       "      <td>64</td>\n",
       "      <td>2.333</td>\n",
       "      <td>bad</td>\n",
       "    </tr>\n",
       "  </tbody>\n",
       "</table>\n",
       "</div>"
      ],
      "text/plain": [
       "         rank     ethnicity  gender language  age  bty_avg eval_categorical\n",
       "331   tenured  not minority    male  english   64    2.333              bad\n",
       "101   tenured  not minority  female  english   46    4.333             good\n",
       "192   tenured  not minority    male  english   54    2.333             good\n",
       "66   teaching  not minority    male  english   37    4.333              bad\n",
       "327   tenured  not minority    male  english   64    2.333              bad"
      ]
     },
     "execution_count": 17,
     "metadata": {},
     "output_type": "execute_result"
    }
   ],
   "source": [
    "data = data.sample(frac = 1, random_state=1)    # shuffling the data before performing any validation\n",
    "data.head()"
   ]
  },
  {
   "cell_type": "markdown",
   "metadata": {},
   "source": [
    "### Holdout estimation\n",
    "That is how we can divide the dataset into training and testing sets in proportion of ~ 2:1:"
   ]
  },
  {
   "cell_type": "code",
   "execution_count": 18,
   "metadata": {},
   "outputs": [],
   "source": [
    "# Select ratio\n",
    "ratio = 0.66\n",
    " \n",
    "total_rows = data.shape[0]\n",
    "train_size = int(total_rows*ratio)\n",
    " \n",
    "# Split data into test and train\n",
    "data_train = data[0:train_size]\n",
    "data_test = data[train_size:]"
   ]
  },
  {
   "cell_type": "code",
   "execution_count": 19,
   "metadata": {},
   "outputs": [
    {
     "data": {
      "text/plain": [
       "305"
      ]
     },
     "execution_count": 19,
     "metadata": {},
     "output_type": "execute_result"
    }
   ],
   "source": [
    "data_train.shape[0]"
   ]
  },
  {
   "cell_type": "code",
   "execution_count": 20,
   "metadata": {},
   "outputs": [
    {
     "data": {
      "text/plain": [
       "158"
      ]
     },
     "execution_count": 20,
     "metadata": {},
     "output_type": "execute_result"
    }
   ],
   "source": [
    "data_test.shape[0]"
   ]
  },
  {
   "cell_type": "markdown",
   "metadata": {},
   "source": [
    "## Naive Bayes classifier"
   ]
  },
  {
   "cell_type": "markdown",
   "metadata": {},
   "source": [
    "Below we provide our implementation of the first classifier: Naive Bayes.\n",
    "\n",
    "We have a mix of cathegorical and numeric attributes. We will produce counts and probabilities for cathegorical attributes. We will also precompute the mean and standard deviation for the numeric attributes which we will later use with the normal distribution probability density function (PDF) to compute the contribution of numeric attributes. "
   ]
  },
  {
   "cell_type": "markdown",
   "metadata": {},
   "source": [
    "Here is an implementation of the PDF:"
   ]
  },
  {
   "cell_type": "code",
   "execution_count": 21,
   "metadata": {},
   "outputs": [],
   "source": [
    "from math import *\n",
    "\n",
    "def normal_pdf(x, stat):\n",
    "    \"\"\"\n",
    "    :param x: a variable\n",
    "    :param mean: µ - the expected value or average from M samples\n",
    "    :param stdev: σ - standard deviation\n",
    "    :return: Gaussian (Normal) Density function.\n",
    "    N(x; µ, σ) = (1 / 2πσ) * (e ^ (x–µ)^2/-2σ^2\n",
    "    \"\"\"\n",
    "    mean, stdev = stat\n",
    "    variance = stdev ** 2\n",
    "    exp_squared_diff = (x - mean) ** 2\n",
    "    exp_power = -exp_squared_diff / (2 * variance)\n",
    "    exponent = e ** exp_power\n",
    "    denominator = ((2 * pi) ** .5) * stdev\n",
    "    normal_prob = exponent / denominator\n",
    "    return normal_prob"
   ]
  },
  {
   "cell_type": "markdown",
   "metadata": {},
   "source": [
    "Here is our counting function:"
   ]
  },
  {
   "cell_type": "code",
   "execution_count": 22,
   "metadata": {},
   "outputs": [],
   "source": [
    "def produce_counts (train_set, column, results):\n",
    "    # counter = 5\n",
    "    col_idx = col_name_to_col_idx [column]\n",
    "    for tup in train_set.itertuples():\n",
    "        val = tup[col_idx]\n",
    "        class_label = tup[7]\n",
    "        prev = results [class_label][column]\n",
    "\n",
    "        if val not in prev.keys():\n",
    "            prev[val] = 0\n",
    "        prev[val] += 1    "
   ]
  },
  {
   "cell_type": "markdown",
   "metadata": {},
   "source": [
    "Based on these counts, we can pre-compute conditional probabilities for all combinations of cathegorical attributes and class labels:"
   ]
  },
  {
   "cell_type": "code",
   "execution_count": 23,
   "metadata": {},
   "outputs": [],
   "source": [
    "def produce_probabilities(counts, results, class_label, total):\n",
    "    for col in counts[class_label].keys():\n",
    "        results[class_label][col] = {} \n",
    "        cardinality = len(counts[class_label][col].keys())\n",
    "        \n",
    "        for val in counts[class_label][col].keys():\n",
    "            results[class_label][col][val] = (counts[class_label][col][val] + 1)/(total + cardinality)      \n",
    "                "
   ]
  },
  {
   "cell_type": "markdown",
   "metadata": {},
   "source": [
    "The classification algorithm that classifies all the records in the *test_set*, based on the data in the *train_set*. \n",
    "\n",
    "The output is the list of classification results in form of a tuple (*classified*, *actual*), where *classified* is a class label obtained by our classification, and *actual* is the actual label of this record in the test set."
   ]
  },
  {
   "cell_type": "code",
   "execution_count": 24,
   "metadata": {},
   "outputs": [],
   "source": [
    "col_name_to_col_idx = {\"rank\":1, \"ethnicity\":2, \"gender\":3, \"language\":4 }\n",
    "idx_to_col_name = {1:\"rank\", 2: \"ethnicity\", 3: \"gender\", 4: \"language\"}\n",
    "\n",
    "def naive_bayes_classify (train_set, test_set):  \n",
    "    counts = {\"good\": {\"rank\":{}, \"ethnicity\":{}, \"gender\":{}, \"language\":{}}, \"bad\":{\"rank\":{}, \"ethnicity\":{}, \"gender\":{}, \"language\":{}} }   \n",
    "\n",
    "    total_good  = train_set.groupby(\"eval_categorical\").size()[\"good\"]\n",
    "    total_bad = train_set.groupby(\"eval_categorical\").size()[\"bad\"]\n",
    "    priors = {\"good\":total_good/(total_good+total_bad), \"bad\":total_bad/(total_good+total_bad) }\n",
    "\n",
    "    for col in col_name_to_col_idx.keys():\n",
    "        produce_counts(train_set, col, counts)   \n",
    "    # print(counts)\n",
    "    \n",
    "    probs = {\"good\":{}, \"bad\":{}}\n",
    "    produce_probabilities (counts,  probs, \"good\", total_good)\n",
    "    produce_probabilities (counts,  probs, \"bad\", total_bad)\n",
    "    # print(probs)\n",
    "\n",
    "    # means and std for normal distribution of numeric parameters\n",
    "    data_good = train_set[train_set[\"eval_categorical\"]== \"good\"]\n",
    "    data_bad = train_set[train_set[\"eval_categorical\"]== \"bad\"]\n",
    "\n",
    "    stats = {\"good\":{\"age\":(data_good[\"age\"].mean(), data_good[\"age\"].std(ddof=1)), \n",
    "                 \"bty_avg\":(data_good[\"bty_avg\"].mean(), data_good[\"bty_avg\"].std(ddof=1)) },\n",
    "        \"bad\":{\"age\":(data_bad[\"age\"].mean(), data_bad[\"age\"].std(ddof=1)), \n",
    "                 \"bty_avg\":(data_bad[\"bty_avg\"].mean(), data_bad[\"bty_avg\"].std(ddof=1)) }}\n",
    "    #print(stats)\n",
    "    \n",
    "    results = []\n",
    "    for tup in test_set.itertuples():\n",
    "        class_label = tup[7]\n",
    "        prob_good = log (priors[\"good\"]) \n",
    "        for k in col_name_to_col_idx.keys():\n",
    "            prob_good += log (probs[\"good\"][k][tup[col_name_to_col_idx[k]]]) \n",
    "        prob_good += normal_pdf(tup[5], stats[\"good\"][\"age\"])\n",
    "        prob_good += normal_pdf(tup[6], stats[\"good\"][\"bty_avg\"])\n",
    "        # print (\"good:\", prob_good)\n",
    "\n",
    "        prob_bad = log (priors[\"bad\"]) \n",
    "        for k in col_name_to_col_idx.keys():\n",
    "            prob_bad += log (probs[\"bad\"][k][tup[col_name_to_col_idx[k]]]) \n",
    "        prob_bad += normal_pdf(tup[5], stats[\"bad\"][\"age\"])\n",
    "        prob_bad += normal_pdf(tup[6], stats[\"bad\"][\"bty_avg\"])\n",
    "        # print (\"bad:\", prob_bad)\n",
    "\n",
    "        classified_as = \"good\"\n",
    "        if prob_bad > prob_good:\n",
    "            classified_as = \"bad\"\n",
    "        \n",
    "        results += [(classified_as, class_label )]    \n",
    "    return results"
   ]
  },
  {
   "cell_type": "markdown",
   "metadata": {},
   "source": [
    "Let's run the classifier using the training and testing parts we obtained in the holdout section."
   ]
  },
  {
   "cell_type": "code",
   "execution_count": 25,
   "metadata": {},
   "outputs": [
    {
     "name": "stdout",
     "output_type": "stream",
     "text": [
      "[('good', 'good'), ('good', 'good'), ('good', 'bad'), ('good', 'good'), ('bad', 'good')]\n",
      "Accuracy: 0.569620253164557\n"
     ]
    }
   ],
   "source": [
    "class_results = naive_bayes_classify(data_train, data_test)\n",
    "print(class_results[:5])\n",
    "\n",
    "correct_count = 0\n",
    "for r in range(len(class_results)):\n",
    "    if class_results[r][0] == class_results[r][1]:\n",
    "        correct_count+= 1\n",
    "print (\"Accuracy:\", correct_count/len(class_results))"
   ]
  },
  {
   "cell_type": "markdown",
   "metadata": {},
   "source": [
    "<div style=\"background-color:yellow;\">\n",
    "    <h3>Task 1. Generate confidence interval for accuracy of the Naive Bayes</h3>    \n",
    "</div>\n",
    "You can write the code, or use the tables manually."
   ]
  },
  {
   "cell_type": "code",
   "execution_count": 26,
   "metadata": {},
   "outputs": [
    {
     "name": "stdout",
     "output_type": "stream",
     "text": [
      "0.5229869733623871\n",
      "0.6162535329667269\n"
     ]
    }
   ],
   "source": [
    "import numpy as np\n",
    "import scipy.stats as stats\n",
    "\n",
    "acc = correct_count/len(class_results)\n",
    "\n",
    "n = 305\n",
    "\n",
    "std_err = np.sqrt((acc *(1-acc)) / n)\n",
    "\n",
    "confidence = 0.90\n",
    "\n",
    "crit_val = stats.norm.ppf((1+confidence) / 2)\n",
    "\n",
    "margin_err = crit_val * std_err\n",
    "\n",
    "lower = acc - margin_err\n",
    "upper = acc + margin_err\n",
    "\n",
    "print(lower)\n",
    "print(upper)\n"
   ]
  },
  {
   "cell_type": "markdown",
   "metadata": {},
   "source": [
    "**Answer**: The confidence interval for the performance of the Naive Bayes classifier is: [0.522, 0.616]"
   ]
  },
  {
   "cell_type": "markdown",
   "metadata": {},
   "source": [
    "### Cross-validation"
   ]
  },
  {
   "cell_type": "markdown",
   "metadata": {},
   "source": [
    "We want to test the performance of two classifiers on different datasets &mdash; to get the mean of the paired difference. To create several traning/testing subsets we will use 10-fold cross-validation: we will divide our original dataset into 10 approximately equal parts (folds) and use 9 out of 10 folds for training and 1 fold for testing. Hence, the total number of performance experiments will be 10."
   ]
  },
  {
   "cell_type": "markdown",
   "metadata": {},
   "source": [
    "<div style=\"background-color:yellow;\">\n",
    "    <h3>Task 2. Perform the 10-fold cross-validation with Naive Bayes</h3>    \n",
    "</div>"
   ]
  },
  {
   "cell_type": "markdown",
   "metadata": {},
   "source": [
    "Generate 10 equal non-overlapping subsets of data and store them in the list of pandas data frames called *folds*:"
   ]
  },
  {
   "cell_type": "markdown",
   "metadata": {},
   "source": [
    "Implement the loop where you obtain classification results for each of the folds. Store these results in the list *nb_accuracies* for future use."
   ]
  },
  {
   "cell_type": "code",
   "execution_count": 27,
   "metadata": {},
   "outputs": [
    {
     "name": "stdout",
     "output_type": "stream",
     "text": [
      "Fold 0 size: 46\n",
      "Fold 1 size: 46\n",
      "Fold 2 size: 46\n",
      "Fold 3 size: 46\n",
      "Fold 4 size: 46\n",
      "Fold 5 size: 46\n",
      "Fold 6 size: 46\n",
      "Fold 7 size: 46\n",
      "Fold 8 size: 46\n",
      "Fold 9 size: 46\n"
     ]
    }
   ],
   "source": [
    "# We want 10 folds of the same size, 46 each (don't include the last datapoints)\n",
    "k = 10\n",
    "fold_size = 46\n",
    "\n",
    "#Calculate total number of datapoints\n",
    "total_data = k*fold_size\n",
    "\n",
    "# Create an array for the folds to be stored into\n",
    "folds = []\n",
    "\n",
    "# Split data into data folds\n",
    "# From range i to i+46, add those datasets into the fold given\n",
    "for i in range(k):\n",
    "    start = i * fold_size\n",
    "    end = start + fold_size\n",
    "    fold = data.iloc[start:end]\n",
    "    folds.append(fold)\n",
    "    print(\"Fold\", i, \"size:\", folds[i].shape[0])"
   ]
  },
  {
   "cell_type": "code",
   "execution_count": 28,
   "metadata": {},
   "outputs": [
    {
     "name": "stdout",
     "output_type": "stream",
     "text": [
      "[0.5652173913043478, 0.4782608695652174, 0.5217391304347826, 0.5652173913043478, 0.5217391304347826, 0.6956521739130435, 0.5434782608695652, 0.6086956521739131, 0.5434782608695652, 0.5]\n"
     ]
    }
   ],
   "source": [
    "# Initialize list to store classifications\n",
    "nb_accuracies = []\n",
    "\n",
    "# Iterate over each fold\n",
    "for fold_index, fold_data in enumerate(folds):\n",
    "    # Perform Naive Bayes classification and calculate accuracy\n",
    "    correct = sum(1 for classified_as, actual in naive_bayes_classify(pd.concat([folds[i] for i in range(k) if i != fold_index]), fold_data) if classified_as == actual)\n",
    "    acc = correct / len(fold_data)\n",
    "    \n",
    "    # Store this in the list\n",
    "    nb_accuracies.append(acc)\n",
    "\n",
    "# print\n",
    "print(nb_accuracies)\n"
   ]
  },
  {
   "cell_type": "markdown",
   "metadata": {},
   "source": [
    "For comparison &mdash; here are our results: 0.5652173913043478, 0.4782608695652174, 0.5217391304347826, 0.5652173913043478, \n",
    "    0.5217391304347826, 0.6956521739130435, 0.5434782608695652, 0.6086956521739131, 0.5434782608695652, 0.5"
   ]
  },
  {
   "cell_type": "markdown",
   "metadata": {},
   "source": [
    "## Nearest Neighbors classifier (k-NN)"
   ]
  },
  {
   "cell_type": "markdown",
   "metadata": {},
   "source": [
    "This classifier assigns a class to a given record based on the class labels of *k* labeled records that are closest to it. The closest samples are selected based on a distance metric, then the neighbors vote and the majority class is assigned to a record in question.\n",
    "\n",
    "The value of *k* indicates the number of closest neighbors used to classify the test record. The value of *k* is non-parametric and a general rule of thumb in choosing the initial value of k is: k = sqrt(N)/2, where N stands for the number of samples in the training dataset. Another hint is to keep the value of k odd, so that there is no tie when choosing between two classes.\n",
    "\n",
    "For our dataset the size of the training set will be about 9 * 46 = 414, and sqrt(414)/2 is ~ 11. We will use k=11 nearest neighbors for our classification."
   ]
  },
  {
   "cell_type": "markdown",
   "metadata": {},
   "source": [
    "### Categorical to numeric (binary)\n",
    "To use distance metrics we must convert the categorical attributes to numeric. The most common method is to convert a categorical attribute into a set of binary attributes, such that for each categorical value there is a separate column, and the value in this column is either 0 or 1. This is called a \"one hot encoding\".\n",
    "\n",
    "One hot encoding for categorical columns:"
   ]
  },
  {
   "cell_type": "code",
   "execution_count": 29,
   "metadata": {},
   "outputs": [
    {
     "data": {
      "text/html": [
       "<div>\n",
       "<style scoped>\n",
       "    .dataframe tbody tr th:only-of-type {\n",
       "        vertical-align: middle;\n",
       "    }\n",
       "\n",
       "    .dataframe tbody tr th {\n",
       "        vertical-align: top;\n",
       "    }\n",
       "\n",
       "    .dataframe thead th {\n",
       "        text-align: right;\n",
       "    }\n",
       "</style>\n",
       "<table border=\"1\" class=\"dataframe\">\n",
       "  <thead>\n",
       "    <tr style=\"text-align: right;\">\n",
       "      <th></th>\n",
       "      <th>teaching</th>\n",
       "      <th>tenure track</th>\n",
       "      <th>tenured</th>\n",
       "      <th>rank</th>\n",
       "    </tr>\n",
       "  </thead>\n",
       "  <tbody>\n",
       "    <tr>\n",
       "      <th>331</th>\n",
       "      <td>0</td>\n",
       "      <td>0</td>\n",
       "      <td>1</td>\n",
       "      <td>tenured</td>\n",
       "    </tr>\n",
       "    <tr>\n",
       "      <th>101</th>\n",
       "      <td>0</td>\n",
       "      <td>0</td>\n",
       "      <td>1</td>\n",
       "      <td>tenured</td>\n",
       "    </tr>\n",
       "    <tr>\n",
       "      <th>192</th>\n",
       "      <td>0</td>\n",
       "      <td>0</td>\n",
       "      <td>1</td>\n",
       "      <td>tenured</td>\n",
       "    </tr>\n",
       "    <tr>\n",
       "      <th>66</th>\n",
       "      <td>1</td>\n",
       "      <td>0</td>\n",
       "      <td>0</td>\n",
       "      <td>teaching</td>\n",
       "    </tr>\n",
       "    <tr>\n",
       "      <th>327</th>\n",
       "      <td>0</td>\n",
       "      <td>0</td>\n",
       "      <td>1</td>\n",
       "      <td>tenured</td>\n",
       "    </tr>\n",
       "  </tbody>\n",
       "</table>\n",
       "</div>"
      ],
      "text/plain": [
       "     teaching  tenure track  tenured      rank\n",
       "331         0             0        1   tenured\n",
       "101         0             0        1   tenured\n",
       "192         0             0        1   tenured\n",
       "66          1             0        0  teaching\n",
       "327         0             0        1   tenured"
      ]
     },
     "execution_count": 29,
     "metadata": {},
     "output_type": "execute_result"
    }
   ],
   "source": [
    "ohe_rank = pd.get_dummies(data[\"rank\"], dtype=int)\n",
    "pd.concat([ohe_rank, data[\"rank\"]], axis=1, sort=False).head()"
   ]
  },
  {
   "cell_type": "code",
   "execution_count": 30,
   "metadata": {},
   "outputs": [
    {
     "data": {
      "text/html": [
       "<div>\n",
       "<style scoped>\n",
       "    .dataframe tbody tr th:only-of-type {\n",
       "        vertical-align: middle;\n",
       "    }\n",
       "\n",
       "    .dataframe tbody tr th {\n",
       "        vertical-align: top;\n",
       "    }\n",
       "\n",
       "    .dataframe thead th {\n",
       "        text-align: right;\n",
       "    }\n",
       "</style>\n",
       "<table border=\"1\" class=\"dataframe\">\n",
       "  <thead>\n",
       "    <tr style=\"text-align: right;\">\n",
       "      <th></th>\n",
       "      <th>minority</th>\n",
       "      <th>not minority</th>\n",
       "      <th>ethnicity</th>\n",
       "    </tr>\n",
       "  </thead>\n",
       "  <tbody>\n",
       "    <tr>\n",
       "      <th>331</th>\n",
       "      <td>0</td>\n",
       "      <td>1</td>\n",
       "      <td>not minority</td>\n",
       "    </tr>\n",
       "    <tr>\n",
       "      <th>101</th>\n",
       "      <td>0</td>\n",
       "      <td>1</td>\n",
       "      <td>not minority</td>\n",
       "    </tr>\n",
       "    <tr>\n",
       "      <th>192</th>\n",
       "      <td>0</td>\n",
       "      <td>1</td>\n",
       "      <td>not minority</td>\n",
       "    </tr>\n",
       "    <tr>\n",
       "      <th>66</th>\n",
       "      <td>0</td>\n",
       "      <td>1</td>\n",
       "      <td>not minority</td>\n",
       "    </tr>\n",
       "    <tr>\n",
       "      <th>327</th>\n",
       "      <td>0</td>\n",
       "      <td>1</td>\n",
       "      <td>not minority</td>\n",
       "    </tr>\n",
       "  </tbody>\n",
       "</table>\n",
       "</div>"
      ],
      "text/plain": [
       "     minority  not minority     ethnicity\n",
       "331         0             1  not minority\n",
       "101         0             1  not minority\n",
       "192         0             1  not minority\n",
       "66          0             1  not minority\n",
       "327         0             1  not minority"
      ]
     },
     "execution_count": 30,
     "metadata": {},
     "output_type": "execute_result"
    }
   ],
   "source": [
    "ohe_ethnicity = pd.get_dummies(data[\"ethnicity\"], dtype=int)\n",
    "pd.concat([ohe_ethnicity, data[\"ethnicity\"]], axis=1, sort=False).head()"
   ]
  },
  {
   "cell_type": "code",
   "execution_count": 31,
   "metadata": {},
   "outputs": [
    {
     "data": {
      "text/html": [
       "<div>\n",
       "<style scoped>\n",
       "    .dataframe tbody tr th:only-of-type {\n",
       "        vertical-align: middle;\n",
       "    }\n",
       "\n",
       "    .dataframe tbody tr th {\n",
       "        vertical-align: top;\n",
       "    }\n",
       "\n",
       "    .dataframe thead th {\n",
       "        text-align: right;\n",
       "    }\n",
       "</style>\n",
       "<table border=\"1\" class=\"dataframe\">\n",
       "  <thead>\n",
       "    <tr style=\"text-align: right;\">\n",
       "      <th></th>\n",
       "      <th>female</th>\n",
       "      <th>male</th>\n",
       "      <th>gender</th>\n",
       "    </tr>\n",
       "  </thead>\n",
       "  <tbody>\n",
       "    <tr>\n",
       "      <th>331</th>\n",
       "      <td>0</td>\n",
       "      <td>1</td>\n",
       "      <td>male</td>\n",
       "    </tr>\n",
       "    <tr>\n",
       "      <th>101</th>\n",
       "      <td>1</td>\n",
       "      <td>0</td>\n",
       "      <td>female</td>\n",
       "    </tr>\n",
       "    <tr>\n",
       "      <th>192</th>\n",
       "      <td>0</td>\n",
       "      <td>1</td>\n",
       "      <td>male</td>\n",
       "    </tr>\n",
       "    <tr>\n",
       "      <th>66</th>\n",
       "      <td>0</td>\n",
       "      <td>1</td>\n",
       "      <td>male</td>\n",
       "    </tr>\n",
       "    <tr>\n",
       "      <th>327</th>\n",
       "      <td>0</td>\n",
       "      <td>1</td>\n",
       "      <td>male</td>\n",
       "    </tr>\n",
       "  </tbody>\n",
       "</table>\n",
       "</div>"
      ],
      "text/plain": [
       "     female  male  gender\n",
       "331       0     1    male\n",
       "101       1     0  female\n",
       "192       0     1    male\n",
       "66        0     1    male\n",
       "327       0     1    male"
      ]
     },
     "execution_count": 31,
     "metadata": {},
     "output_type": "execute_result"
    }
   ],
   "source": [
    "ohe_gender = pd.get_dummies(data[\"gender\"], dtype=int)\n",
    "pd.concat([ohe_gender, data[\"gender\"]], axis=1, sort=False).head()"
   ]
  },
  {
   "cell_type": "code",
   "execution_count": 32,
   "metadata": {},
   "outputs": [
    {
     "data": {
      "text/html": [
       "<div>\n",
       "<style scoped>\n",
       "    .dataframe tbody tr th:only-of-type {\n",
       "        vertical-align: middle;\n",
       "    }\n",
       "\n",
       "    .dataframe tbody tr th {\n",
       "        vertical-align: top;\n",
       "    }\n",
       "\n",
       "    .dataframe thead th {\n",
       "        text-align: right;\n",
       "    }\n",
       "</style>\n",
       "<table border=\"1\" class=\"dataframe\">\n",
       "  <thead>\n",
       "    <tr style=\"text-align: right;\">\n",
       "      <th></th>\n",
       "      <th>english</th>\n",
       "      <th>non-english</th>\n",
       "      <th>language</th>\n",
       "    </tr>\n",
       "  </thead>\n",
       "  <tbody>\n",
       "    <tr>\n",
       "      <th>331</th>\n",
       "      <td>1</td>\n",
       "      <td>0</td>\n",
       "      <td>english</td>\n",
       "    </tr>\n",
       "    <tr>\n",
       "      <th>101</th>\n",
       "      <td>1</td>\n",
       "      <td>0</td>\n",
       "      <td>english</td>\n",
       "    </tr>\n",
       "    <tr>\n",
       "      <th>192</th>\n",
       "      <td>1</td>\n",
       "      <td>0</td>\n",
       "      <td>english</td>\n",
       "    </tr>\n",
       "    <tr>\n",
       "      <th>66</th>\n",
       "      <td>1</td>\n",
       "      <td>0</td>\n",
       "      <td>english</td>\n",
       "    </tr>\n",
       "    <tr>\n",
       "      <th>327</th>\n",
       "      <td>1</td>\n",
       "      <td>0</td>\n",
       "      <td>english</td>\n",
       "    </tr>\n",
       "  </tbody>\n",
       "</table>\n",
       "</div>"
      ],
      "text/plain": [
       "     english  non-english language\n",
       "331        1            0  english\n",
       "101        1            0  english\n",
       "192        1            0  english\n",
       "66         1            0  english\n",
       "327        1            0  english"
      ]
     },
     "execution_count": 32,
     "metadata": {},
     "output_type": "execute_result"
    }
   ],
   "source": [
    "ohe_language = pd.get_dummies(data[\"language\"], dtype=int)\n",
    "pd.concat([ohe_language, data[\"language\"]], axis=1, sort=False).head()"
   ]
  },
  {
   "cell_type": "markdown",
   "metadata": {},
   "source": [
    "Now we create a dataset where all the cathegorical attributes are replaced by the binary columns. This dataset is called *num_data* and it will be used in the k-NN classification."
   ]
  },
  {
   "cell_type": "code",
   "execution_count": 33,
   "metadata": {},
   "outputs": [
    {
     "data": {
      "text/html": [
       "<div>\n",
       "<style scoped>\n",
       "    .dataframe tbody tr th:only-of-type {\n",
       "        vertical-align: middle;\n",
       "    }\n",
       "\n",
       "    .dataframe tbody tr th {\n",
       "        vertical-align: top;\n",
       "    }\n",
       "\n",
       "    .dataframe thead th {\n",
       "        text-align: right;\n",
       "    }\n",
       "</style>\n",
       "<table border=\"1\" class=\"dataframe\">\n",
       "  <thead>\n",
       "    <tr style=\"text-align: right;\">\n",
       "      <th></th>\n",
       "      <th>teaching</th>\n",
       "      <th>tenure track</th>\n",
       "      <th>tenured</th>\n",
       "      <th>minority</th>\n",
       "      <th>not minority</th>\n",
       "      <th>female</th>\n",
       "      <th>male</th>\n",
       "      <th>english</th>\n",
       "      <th>non-english</th>\n",
       "      <th>age</th>\n",
       "      <th>bty_avg</th>\n",
       "      <th>eval_categorical</th>\n",
       "    </tr>\n",
       "  </thead>\n",
       "  <tbody>\n",
       "    <tr>\n",
       "      <th>331</th>\n",
       "      <td>0</td>\n",
       "      <td>0</td>\n",
       "      <td>1</td>\n",
       "      <td>0</td>\n",
       "      <td>1</td>\n",
       "      <td>0</td>\n",
       "      <td>1</td>\n",
       "      <td>1</td>\n",
       "      <td>0</td>\n",
       "      <td>64</td>\n",
       "      <td>2.333</td>\n",
       "      <td>bad</td>\n",
       "    </tr>\n",
       "    <tr>\n",
       "      <th>101</th>\n",
       "      <td>0</td>\n",
       "      <td>0</td>\n",
       "      <td>1</td>\n",
       "      <td>0</td>\n",
       "      <td>1</td>\n",
       "      <td>1</td>\n",
       "      <td>0</td>\n",
       "      <td>1</td>\n",
       "      <td>0</td>\n",
       "      <td>46</td>\n",
       "      <td>4.333</td>\n",
       "      <td>good</td>\n",
       "    </tr>\n",
       "    <tr>\n",
       "      <th>192</th>\n",
       "      <td>0</td>\n",
       "      <td>0</td>\n",
       "      <td>1</td>\n",
       "      <td>0</td>\n",
       "      <td>1</td>\n",
       "      <td>0</td>\n",
       "      <td>1</td>\n",
       "      <td>1</td>\n",
       "      <td>0</td>\n",
       "      <td>54</td>\n",
       "      <td>2.333</td>\n",
       "      <td>good</td>\n",
       "    </tr>\n",
       "    <tr>\n",
       "      <th>66</th>\n",
       "      <td>1</td>\n",
       "      <td>0</td>\n",
       "      <td>0</td>\n",
       "      <td>0</td>\n",
       "      <td>1</td>\n",
       "      <td>0</td>\n",
       "      <td>1</td>\n",
       "      <td>1</td>\n",
       "      <td>0</td>\n",
       "      <td>37</td>\n",
       "      <td>4.333</td>\n",
       "      <td>bad</td>\n",
       "    </tr>\n",
       "    <tr>\n",
       "      <th>327</th>\n",
       "      <td>0</td>\n",
       "      <td>0</td>\n",
       "      <td>1</td>\n",
       "      <td>0</td>\n",
       "      <td>1</td>\n",
       "      <td>0</td>\n",
       "      <td>1</td>\n",
       "      <td>1</td>\n",
       "      <td>0</td>\n",
       "      <td>64</td>\n",
       "      <td>2.333</td>\n",
       "      <td>bad</td>\n",
       "    </tr>\n",
       "  </tbody>\n",
       "</table>\n",
       "</div>"
      ],
      "text/plain": [
       "     teaching  tenure track  tenured  minority  not minority  female  male  \\\n",
       "331         0             0        1         0             1       0     1   \n",
       "101         0             0        1         0             1       1     0   \n",
       "192         0             0        1         0             1       0     1   \n",
       "66          1             0        0         0             1       0     1   \n",
       "327         0             0        1         0             1       0     1   \n",
       "\n",
       "     english  non-english  age  bty_avg eval_categorical  \n",
       "331        1            0   64    2.333              bad  \n",
       "101        1            0   46    4.333             good  \n",
       "192        1            0   54    2.333             good  \n",
       "66         1            0   37    4.333              bad  \n",
       "327        1            0   64    2.333              bad  "
      ]
     },
     "execution_count": 33,
     "metadata": {},
     "output_type": "execute_result"
    }
   ],
   "source": [
    "num_data = pd.concat([ohe_rank, ohe_ethnicity, ohe_gender, ohe_language, data[[\"age\",\"bty_avg\",\"eval_categorical\"]]], axis=1, sort=False)\n",
    "num_data.head()"
   ]
  },
  {
   "cell_type": "markdown",
   "metadata": {},
   "source": [
    "Now all the data in num_data is numeric, and we can use the Euclidean distance to compute the distance between the records."
   ]
  },
  {
   "cell_type": "markdown",
   "metadata": {},
   "source": [
    "### Common scale\n",
    "You can see that the absolute values of different attributes are on different scales, and we better bring them all to the same interval between 0 and 1, since otherwise the difference in age will dominate an overall distance between two records.\n",
    "\n",
    "We transform numeric columns to a standard scale 0-1 using the following formula: x<sub>scaled</sub>=(x-min)/(max-min)"
   ]
  },
  {
   "cell_type": "code",
   "execution_count": 34,
   "metadata": {},
   "outputs": [],
   "source": [
    "# apply normalization techniques to column age \n",
    "column = 'age'\n",
    "num_data[column] = (num_data[column] - num_data[column].min()) / (num_data[column].max() - num_data[column].min())     "
   ]
  },
  {
   "cell_type": "code",
   "execution_count": 35,
   "metadata": {
    "scrolled": true
   },
   "outputs": [
    {
     "data": {
      "text/html": [
       "<div>\n",
       "<style scoped>\n",
       "    .dataframe tbody tr th:only-of-type {\n",
       "        vertical-align: middle;\n",
       "    }\n",
       "\n",
       "    .dataframe tbody tr th {\n",
       "        vertical-align: top;\n",
       "    }\n",
       "\n",
       "    .dataframe thead th {\n",
       "        text-align: right;\n",
       "    }\n",
       "</style>\n",
       "<table border=\"1\" class=\"dataframe\">\n",
       "  <thead>\n",
       "    <tr style=\"text-align: right;\">\n",
       "      <th></th>\n",
       "      <th>teaching</th>\n",
       "      <th>tenure track</th>\n",
       "      <th>tenured</th>\n",
       "      <th>minority</th>\n",
       "      <th>not minority</th>\n",
       "      <th>female</th>\n",
       "      <th>male</th>\n",
       "      <th>english</th>\n",
       "      <th>non-english</th>\n",
       "      <th>age</th>\n",
       "      <th>bty_avg</th>\n",
       "      <th>eval_categorical</th>\n",
       "    </tr>\n",
       "  </thead>\n",
       "  <tbody>\n",
       "    <tr>\n",
       "      <th>331</th>\n",
       "      <td>0</td>\n",
       "      <td>0</td>\n",
       "      <td>1</td>\n",
       "      <td>0</td>\n",
       "      <td>1</td>\n",
       "      <td>0</td>\n",
       "      <td>1</td>\n",
       "      <td>1</td>\n",
       "      <td>0</td>\n",
       "      <td>0.795455</td>\n",
       "      <td>0.102462</td>\n",
       "      <td>bad</td>\n",
       "    </tr>\n",
       "    <tr>\n",
       "      <th>101</th>\n",
       "      <td>0</td>\n",
       "      <td>0</td>\n",
       "      <td>1</td>\n",
       "      <td>0</td>\n",
       "      <td>1</td>\n",
       "      <td>1</td>\n",
       "      <td>0</td>\n",
       "      <td>1</td>\n",
       "      <td>0</td>\n",
       "      <td>0.386364</td>\n",
       "      <td>0.410154</td>\n",
       "      <td>good</td>\n",
       "    </tr>\n",
       "    <tr>\n",
       "      <th>192</th>\n",
       "      <td>0</td>\n",
       "      <td>0</td>\n",
       "      <td>1</td>\n",
       "      <td>0</td>\n",
       "      <td>1</td>\n",
       "      <td>0</td>\n",
       "      <td>1</td>\n",
       "      <td>1</td>\n",
       "      <td>0</td>\n",
       "      <td>0.568182</td>\n",
       "      <td>0.102462</td>\n",
       "      <td>good</td>\n",
       "    </tr>\n",
       "    <tr>\n",
       "      <th>66</th>\n",
       "      <td>1</td>\n",
       "      <td>0</td>\n",
       "      <td>0</td>\n",
       "      <td>0</td>\n",
       "      <td>1</td>\n",
       "      <td>0</td>\n",
       "      <td>1</td>\n",
       "      <td>1</td>\n",
       "      <td>0</td>\n",
       "      <td>0.181818</td>\n",
       "      <td>0.410154</td>\n",
       "      <td>bad</td>\n",
       "    </tr>\n",
       "    <tr>\n",
       "      <th>327</th>\n",
       "      <td>0</td>\n",
       "      <td>0</td>\n",
       "      <td>1</td>\n",
       "      <td>0</td>\n",
       "      <td>1</td>\n",
       "      <td>0</td>\n",
       "      <td>1</td>\n",
       "      <td>1</td>\n",
       "      <td>0</td>\n",
       "      <td>0.795455</td>\n",
       "      <td>0.102462</td>\n",
       "      <td>bad</td>\n",
       "    </tr>\n",
       "    <tr>\n",
       "      <th>...</th>\n",
       "      <td>...</td>\n",
       "      <td>...</td>\n",
       "      <td>...</td>\n",
       "      <td>...</td>\n",
       "      <td>...</td>\n",
       "      <td>...</td>\n",
       "      <td>...</td>\n",
       "      <td>...</td>\n",
       "      <td>...</td>\n",
       "      <td>...</td>\n",
       "      <td>...</td>\n",
       "      <td>...</td>\n",
       "    </tr>\n",
       "    <tr>\n",
       "      <th>255</th>\n",
       "      <td>0</td>\n",
       "      <td>0</td>\n",
       "      <td>1</td>\n",
       "      <td>0</td>\n",
       "      <td>1</td>\n",
       "      <td>0</td>\n",
       "      <td>1</td>\n",
       "      <td>1</td>\n",
       "      <td>0</td>\n",
       "      <td>0.522727</td>\n",
       "      <td>0.230769</td>\n",
       "      <td>good</td>\n",
       "    </tr>\n",
       "    <tr>\n",
       "      <th>72</th>\n",
       "      <td>0</td>\n",
       "      <td>0</td>\n",
       "      <td>1</td>\n",
       "      <td>0</td>\n",
       "      <td>1</td>\n",
       "      <td>0</td>\n",
       "      <td>1</td>\n",
       "      <td>1</td>\n",
       "      <td>0</td>\n",
       "      <td>0.295455</td>\n",
       "      <td>0.487077</td>\n",
       "      <td>good</td>\n",
       "    </tr>\n",
       "    <tr>\n",
       "      <th>396</th>\n",
       "      <td>1</td>\n",
       "      <td>0</td>\n",
       "      <td>0</td>\n",
       "      <td>0</td>\n",
       "      <td>1</td>\n",
       "      <td>0</td>\n",
       "      <td>1</td>\n",
       "      <td>1</td>\n",
       "      <td>0</td>\n",
       "      <td>0.363636</td>\n",
       "      <td>0.256308</td>\n",
       "      <td>good</td>\n",
       "    </tr>\n",
       "    <tr>\n",
       "      <th>235</th>\n",
       "      <td>0</td>\n",
       "      <td>0</td>\n",
       "      <td>1</td>\n",
       "      <td>0</td>\n",
       "      <td>1</td>\n",
       "      <td>0</td>\n",
       "      <td>1</td>\n",
       "      <td>1</td>\n",
       "      <td>0</td>\n",
       "      <td>0.727273</td>\n",
       "      <td>0.487077</td>\n",
       "      <td>good</td>\n",
       "    </tr>\n",
       "    <tr>\n",
       "      <th>37</th>\n",
       "      <td>0</td>\n",
       "      <td>0</td>\n",
       "      <td>1</td>\n",
       "      <td>0</td>\n",
       "      <td>1</td>\n",
       "      <td>1</td>\n",
       "      <td>0</td>\n",
       "      <td>1</td>\n",
       "      <td>0</td>\n",
       "      <td>0.500000</td>\n",
       "      <td>0.358923</td>\n",
       "      <td>good</td>\n",
       "    </tr>\n",
       "  </tbody>\n",
       "</table>\n",
       "<p>463 rows × 12 columns</p>\n",
       "</div>"
      ],
      "text/plain": [
       "     teaching  tenure track  tenured  minority  not minority  female  male  \\\n",
       "331         0             0        1         0             1       0     1   \n",
       "101         0             0        1         0             1       1     0   \n",
       "192         0             0        1         0             1       0     1   \n",
       "66          1             0        0         0             1       0     1   \n",
       "327         0             0        1         0             1       0     1   \n",
       "..        ...           ...      ...       ...           ...     ...   ...   \n",
       "255         0             0        1         0             1       0     1   \n",
       "72          0             0        1         0             1       0     1   \n",
       "396         1             0        0         0             1       0     1   \n",
       "235         0             0        1         0             1       0     1   \n",
       "37          0             0        1         0             1       1     0   \n",
       "\n",
       "     english  non-english       age   bty_avg eval_categorical  \n",
       "331        1            0  0.795455  0.102462              bad  \n",
       "101        1            0  0.386364  0.410154             good  \n",
       "192        1            0  0.568182  0.102462             good  \n",
       "66         1            0  0.181818  0.410154              bad  \n",
       "327        1            0  0.795455  0.102462              bad  \n",
       "..       ...          ...       ...       ...              ...  \n",
       "255        1            0  0.522727  0.230769             good  \n",
       "72         1            0  0.295455  0.487077             good  \n",
       "396        1            0  0.363636  0.256308             good  \n",
       "235        1            0  0.727273  0.487077             good  \n",
       "37         1            0  0.500000  0.358923             good  \n",
       "\n",
       "[463 rows x 12 columns]"
      ]
     },
     "metadata": {},
     "output_type": "display_data"
    }
   ],
   "source": [
    "# apply normalization techniques to column bty_avg \n",
    "column = 'bty_avg'\n",
    "num_data[column] = (num_data[column] - num_data[column].min()) / (num_data[column].max() - num_data[column].min())     \n",
    "  \n",
    "# view normalized data \n",
    "display(num_data) "
   ]
  },
  {
   "cell_type": "markdown",
   "metadata": {},
   "source": [
    "### Holdout for the numeric dataset\n",
    "Divide the dataset into training and testing sets in proportion of 2:1."
   ]
  },
  {
   "cell_type": "code",
   "execution_count": 36,
   "metadata": {},
   "outputs": [],
   "source": [
    "# Select ratio\n",
    "ratio = 0.66\n",
    " \n",
    "total_rows = num_data.shape[0]\n",
    "train_size = int(total_rows*ratio)\n",
    " \n",
    "# Split data into test and train\n",
    "num_data_train = num_data[0:train_size]\n",
    "num_data_test = num_data[train_size:]\n",
    "\n",
    "\n"
   ]
  },
  {
   "cell_type": "markdown",
   "metadata": {},
   "source": [
    "Now you have the input dataset for the k-NN classification."
   ]
  },
  {
   "cell_type": "markdown",
   "metadata": {},
   "source": [
    "<div style=\"background-color:yellow;\">\n",
    "    <h3>Task 3. Implement the k-NN classifier</h3>    \n",
    "</div>"
   ]
  },
  {
   "cell_type": "markdown",
   "metadata": {},
   "source": [
    "Note that this is a \"lazy\" classifier and nothing can be precomputed. Both the training and the test sets are used only during classification."
   ]
  },
  {
   "cell_type": "markdown",
   "metadata": {},
   "source": [
    "The output of a classifier should be the list of classification results in form of a tuple (*classified*, *actual*), where *classified* is a class label obtained by our classification, and *actual* is the actual label of this record in the test set."
   ]
  },
  {
   "cell_type": "code",
   "execution_count": 52,
   "metadata": {},
   "outputs": [],
   "source": [
    "\n",
    "# Calulates the euclidiean distance between 2 points\n",
    "def calculate_distance(instance1, instance2, col_to_index):\n",
    "    distance = 0\n",
    "    for col, idx in col_to_index.items():\n",
    "        # Square it, so that it is always positive\n",
    "        distance += (instance1[col] - instance2[col]) ** 2\n",
    "    # Return square root of squared number so that it is positive\n",
    "    return distance ** 0.5\n",
    "\n",
    "# Similar to produce counts method written for Bayes Classifier\n",
    "# Adds the columns up for each category\n",
    "def produce_counts(train_set, column, results):\n",
    "    for _, row in train_set.iterrows():\n",
    "        val = row[column]\n",
    "        class_label = row[\"eval_categorical\"]\n",
    "        if column not in results[class_label]:\n",
    "            results[class_label][column] = 0\n",
    "        results[class_label][column] += val\n",
    "        \n",
    "# Selects the most popular our of the given set\n",
    "def majority_vote(neighbors):\n",
    "    class_votes = {}\n",
    "    for neighbor in neighbors:\n",
    "        label = neighbor[0][\"eval_categorical\"]\n",
    "        if label in class_votes:\n",
    "            class_votes[label] += 1\n",
    "        else:\n",
    "            class_votes[label] = 1\n",
    "    return max(class_votes, key=class_votes.get)\n",
    "\n",
    "\n",
    "def knn_classify(train_set, test_set, knn):\n",
    "    #Indexing the column names for easier use\n",
    "    col_name_to_col_idx = {\n",
    "        \"teaching\": 1, \"tenure track\": 2, \"tenured\": 3, \"minority\": 4, \"not minority\": 5,\n",
    "        \"female\": 6, \"male\": 7, \"english\": 8, \"non-english\": 9, \"age\": 10, \"bty_avg\": 11\n",
    "    }\n",
    "    idx_to_col_name = {v: k for k, v in col_name_to_col_idx.items()}\n",
    "    \n",
    "    # Initialize for counts\n",
    "    results = {\"good\": {}, \"bad\": {}}\n",
    "    \n",
    "    # Add up the values\n",
    "    for col in col_name_to_col_idx:\n",
    "        produce_counts(train_set, col, results)\n",
    "    #Initialize for predictions    \n",
    "    predictions = []\n",
    "    \n",
    "    # Go through each to calculate neighbors\n",
    "    for index, row in test_set.iterrows():\n",
    "        distances = []\n",
    "        for index_train, row_train in train_set.iterrows():\n",
    "            distance = calculate_distance(row, row_train, col_name_to_col_idx)\n",
    "            distances.append((row_train, distance))\n",
    "        distances.sort(key=lambda x: x[1])\n",
    "        neighbors = distances[:knn]\n",
    "        prediction = majority_vote(neighbors)\n",
    "        predictions.append(prediction)\n",
    "        \n",
    "    return predictions\n"
   ]
  },
  {
   "cell_type": "markdown",
   "metadata": {},
   "source": [
    "<div style=\"background-color:yellow;\">\n",
    "    <h3>Task 4. Generate the confidence interval for the k-NN accuracy </h3>    \n",
    "</div>\n",
    "This is based on the holdout estimation. \n",
    "Run your classifier, obtain the accuracy of the sample, and then produce a confidence interval. You can write the code, or use the tables manually."
   ]
  },
  {
   "cell_type": "code",
   "execution_count": 53,
   "metadata": {},
   "outputs": [
    {
     "name": "stdout",
     "output_type": "stream",
     "text": [
      "['good', 'good', 'good', 'good', 'good']\n",
      "Accuracy: 0.5569620253164557\n",
      "Confidence Interval:\n",
      "Lower Bound: 78.0\n",
      "Upper Bound: 98.0\n"
     ]
    }
   ],
   "source": [
    "\n",
    "\n",
    "class_results = knn_classify(num_data_train, num_data_test, 11)\n",
    "print(class_results[:5])\n",
    "\n",
    "# Calculating accuracy\n",
    "correct = sum(1 for predicted, actual in zip(class_results, num_data_test[\"eval_categorical\"]) if predicted == actual)\n",
    "accuracy = correct / len(class_results)\n",
    "print(\"Accuracy:\", accuracy)\n",
    "\n",
    "# Computing confidence interval\n",
    "from scipy.stats import binom\n",
    "\n",
    "# Assuming 90% confidence level\n",
    "confidence_level = 0.90\n",
    "\n",
    "# Compute correct predictions\n",
    "num_successes = correct\n",
    "\n",
    "# total number of predictions\n",
    "sample_size = len(class_results)\n",
    "\n",
    "# Compute confidence interval \n",
    "lower_bound, upper_bound = binom.interval(confidence_level, sample_size, accuracy)\n",
    "\n",
    "print(\"Confidence Interval:\")\n",
    "print(\"Lower Bound:\", lower_bound)\n",
    "print(\"Upper Bound:\", upper_bound)\n",
    "\n",
    "\n",
    "# TODO: classify and compute accuracy\n"
   ]
  },
  {
   "cell_type": "markdown",
   "metadata": {},
   "source": [
    "Our accuracy was: 0.5569620253164557\n",
    "\n",
    "**Your answer**: The confidence interval for the performance of the k-NN classifier is: [78,98]\n"
   ]
  },
  {
   "cell_type": "markdown",
   "metadata": {},
   "source": [
    "<div style=\"background-color:yellow;\">\n",
    "    <h3>Task 5. Perform the 10-fold cross-validation with k-NN</h3>    \n",
    "</div>\n"
   ]
  },
  {
   "cell_type": "markdown",
   "metadata": {},
   "source": [
    "Generate 10 equal non-overlapping subsets of numeric data from the numeric dataset and store them in the list of pandas data frames called *num_folds*:"
   ]
  },
  {
   "cell_type": "code",
   "execution_count": 58,
   "metadata": {},
   "outputs": [
    {
     "name": "stdout",
     "output_type": "stream",
     "text": [
      "Fold 0 size: 46\n",
      "Fold 1 size: 46\n",
      "Fold 2 size: 46\n",
      "Fold 3 size: 46\n",
      "Fold 4 size: 46\n",
      "Fold 5 size: 46\n",
      "Fold 6 size: 46\n",
      "Fold 7 size: 46\n",
      "Fold 8 size: 46\n",
      "Fold 9 size: 46\n"
     ]
    }
   ],
   "source": [
    "# We want 10 folds of the same size, 46 each (don't include the last datapoints)\n",
    "k = 10\n",
    "fold_size = 46\n",
    "\n",
    "#Calculate total number of datapoints\n",
    "total_data = k*fold_size\n",
    "\n",
    "# Create an array for the folds to be stored into\n",
    "num_folds = []\n",
    "\n",
    "# Split data into data folds\n",
    "# From range i to i+46, add those datasets into the fold given\n",
    "for i in range(k):\n",
    "    start = i * fold_size\n",
    "    end = start + fold_size\n",
    "    fold = num_data.iloc[start:end]\n",
    "    num_folds.append(fold)\n",
    "    print(\"Fold\", i, \"size:\", num_folds[i].shape[0])"
   ]
  },
  {
   "cell_type": "markdown",
   "metadata": {},
   "source": [
    "Implement the loop to perform 10-fold cross-validation. Store the classification results in the list *knn_accuracies* for future use."
   ]
  },
  {
   "cell_type": "code",
   "execution_count": 60,
   "metadata": {},
   "outputs": [
    {
     "name": "stdout",
     "output_type": "stream",
     "text": [
      "Accuracy for fold 0 : 0.189873417721519\n",
      "Accuracy for fold 1 : 0.13924050632911392\n",
      "Accuracy for fold 2 : 0.14556962025316456\n",
      "Accuracy for fold 3 : 0.12658227848101267\n",
      "Accuracy for fold 4 : 0.17721518987341772\n",
      "Accuracy for fold 5 : 0.17721518987341772\n",
      "Accuracy for fold 6 : 0.1518987341772152\n",
      "Accuracy for fold 7 : 0.17088607594936708\n",
      "Accuracy for fold 8 : 0.15822784810126583\n",
      "Accuracy for fold 9 : 0.12025316455696203\n",
      "Mean accuracy: 0.15569620253164557\n",
      "Standard deviation of accuracy: 0.02196120452265503\n"
     ]
    }
   ],
   "source": [
    "k = 10\n",
    "fold_size = 46\n",
    "knn_accuracies = []\n",
    "\n",
    "for i in range(k):\n",
    "    # Do the classification on the data\n",
    "    class_results = knn_classify(num_data_train, num_data_test, 11)\n",
    "    \n",
    "    # Find the accuracy for each fold\n",
    "    correct = sum(1 for predicted, actual in zip(class_results, test_set[\"eval_categorical\"]) if predicted == actual)\n",
    "    accuracy = correct / len(class_results)\n",
    "    knn_accuracies.append(accuracy)\n",
    "    \n",
    "    print(\"Accuracy for fold\", i, \":\", accuracy)\n",
    "\n",
    "print(\"Mean accuracy:\", np.mean(knn_accuracies))\n",
    "print(\"Standard deviation of accuracy:\", np.std(knn_accuracies))\n"
   ]
  },
  {
   "cell_type": "code",
   "execution_count": 61,
   "metadata": {},
   "outputs": [
    {
     "name": "stdout",
     "output_type": "stream",
     "text": [
      "Accuracy for fold 0 : 0.6086956521739131\n",
      "Accuracy for fold 1 : 0.6086956521739131\n",
      "Accuracy for fold 2 : 0.5217391304347826\n",
      "Accuracy for fold 3 : 0.6086956521739131\n",
      "Accuracy for fold 4 : 0.6739130434782609\n",
      "Accuracy for fold 5 : 0.5869565217391305\n",
      "Accuracy for fold 6 : 0.6521739130434783\n",
      "Accuracy for fold 7 : 0.5434782608695652\n",
      "Accuracy for fold 8 : 0.6956521739130435\n",
      "Accuracy for fold 9 : 0.6304347826086957\n",
      "Mean accuracy: 0.6130434782608696\n",
      "Standard deviation of accuracy: 0.051260113576311286\n"
     ]
    }
   ],
   "source": [
    "import numpy as np\n",
    "\n",
    "k = 10\n",
    "knn_accuracies = []\n",
    "\n",
    "for i in range(k):\n",
    "    test_set = num_folds[i]\n",
    "    train_set = pd.concat([fold for j, fold in enumerate(num_folds) if j != i])\n",
    "    \n",
    "    # Perform classification\n",
    "    class_results = knn_classify(train_set, test_set, 11)\n",
    "    \n",
    "    # Calculate accuracy\n",
    "    correct = sum(1 for predicted, actual in zip(class_results, test_set[\"eval_categorical\"]) if predicted == actual)\n",
    "    accuracy = correct / len(class_results)\n",
    "    knn_accuracies.append(accuracy)\n",
    "    \n",
    "    print(\"Accuracy for fold\", i, \":\", accuracy)\n",
    "\n"
   ]
  },
  {
   "cell_type": "markdown",
   "metadata": {},
   "source": [
    "Our results were:\n",
    "0.6304347826086957, 0.717391304347826, 0.5, 0.6304347826086957, 0.5869565217391305, 0.6304347826086957, \n",
    "0.717391304347826, 0.6521739130434783, 0.6956521739130435, 0.6739130434782609"
   ]
  },
  {
   "cell_type": "markdown",
   "metadata": {},
   "source": [
    "<div style=\"background-color:yellow;\">\n",
    "    <h3>Task 6. Compare performance of two classifiers</h3>    \n",
    "</div>"
   ]
  },
  {
   "cell_type": "markdown",
   "metadata": {},
   "source": [
    "Based on the paired results stored in lists *nb_accuracies* and *knn_accuracies*, test the hypothesis that the two classifiers do not have the same performance at a significance level 0.05. Recall that we need to use the t-ditribution for the mean of differences. Again, you can either implement the computation or use the tables manually.\n",
    "\n",
    "**If you are not writing the code, please clearly explain all the steps of your computation**."
   ]
  },
  {
   "cell_type": "code",
   "execution_count": 63,
   "metadata": {},
   "outputs": [
    {
     "name": "stdout",
     "output_type": "stream",
     "text": [
      "T-Statistic: -1.9995429093758168\n",
      "Critical Value: 2.2621571627409915\n",
      "We failed to reject the null hypothesis. There is no significant difference in performance between the 2 classifiers.\n"
     ]
    }
   ],
   "source": [
    "from scipy.stats import t\n",
    "\n",
    "# Subtract each accuracy value from the other corresponding value of the same index\n",
    "differences = [nb_accuracy - knn_accuracy for nb_accuracy, knn_accuracy in zip(nb_accuracies, knn_accuracies)]\n",
    "\n",
    "# Find the mean and standard deviation of each\n",
    "mean_difference = np.mean(differences)\n",
    "std_difference = np.std(differences, ddof=1)  # ddof=1 for sample standard deviation\n",
    "\n",
    "# Find the t-value\n",
    "n = len(differences)\n",
    "t_statistic = mean_difference / (std_difference / np.sqrt(n))\n",
    "\n",
    "# DOF\n",
    "df = n - 1\n",
    "\n",
    "# 2-tailed significance test and 0.05 significance level\n",
    "alpha = 0.05\n",
    "critical_value = t.ppf(1 - alpha / 2, df)\n",
    "\n",
    "# Print results\n",
    "print(\"T-Statistic:\", t_statistic)\n",
    "print(\"Critical Value:\", critical_value)\n",
    "\n",
    "# Compare values and decide the hypothesis\n",
    "if np.abs(t_statistic) > critical_value:\n",
    "    print(\"We reject the null hypothesis. The 2 classifiers have significantly different performance\")\n",
    "else:\n",
    "    print(\"We failed to reject the null hypothesis. There is no significant difference in performance between the 2 classifiers.\")\n"
   ]
  },
  {
   "cell_type": "markdown",
   "metadata": {},
   "source": [
    "<div style=\"background-color:yellow;\">\n",
    "    <h3>Task 7. Use the best classifier</h3>    \n",
    "</div>\n",
    "Which classifier is significantly better? \n",
    "\n",
    "Use it to predict the evaluation results for instructors that you know.\n",
    "Now you can use the entire dataset as a training set.\n",
    "\n",
    "Did the predicted class labels correspond to your own evaluations? \n",
    "\n",
    "Discuss all these questions and add any notes about this lab in a separate cell below."
   ]
  },
  {
   "cell_type": "markdown",
   "metadata": {},
   "source": [
    "Neither classifer is significantly better than the other. Shown above, the calculated t-statistic that we found using our 2 classifiers was -1.9995, and needed to be 2.262 in order to prove that one was better than the other. We cannot accept the null hypothesis, but we still cannot accept it. \n",
    "\n"
   ]
  },
  {
   "cell_type": "markdown",
   "metadata": {},
   "source": [
    "#### This is the end of the Skill lab 3. \n",
    "\n",
    "Copyright &copy; 2024 Marina Barsky."
   ]
  }
 ],
 "metadata": {
  "kernelspec": {
   "display_name": "Python 3",
   "language": "python",
   "name": "python3"
  },
  "language_info": {
   "codemirror_mode": {
    "name": "ipython",
    "version": 3
   },
   "file_extension": ".py",
   "mimetype": "text/x-python",
   "name": "python",
   "nbconvert_exporter": "python",
   "pygments_lexer": "ipython3",
   "version": "3.8.3"
  }
 },
 "nbformat": 4,
 "nbformat_minor": 5
}
